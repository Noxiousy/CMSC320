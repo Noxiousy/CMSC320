{
 "cells": [
  {
   "cell_type": "markdown",
   "metadata": {},
   "source": [
    "---\n",
    "\n",
    "#  **Do Chess Openings Matter?**\n",
    "\n",
    "An exploratory data analysis by Jaxon Ko. This Jupyter Notebook showcases my Final Project for CMSC320: Data Science at the University of Maryland"
   ]
  },
  {
   "cell_type": "markdown",
   "metadata": {},
   "source": [
    "---\n",
    "\n",
    "##  **Introduction**\n",
    "\n"
   ]
  },
  {
   "cell_type": "markdown",
   "metadata": {},
   "source": [
    "### *Motivation*\n",
    "\n",
    "In a game of chess, an **opening** refers to the first moves of the game. According to the [Oxford Companion to Chess](https://en.wikipedia.org/wiki/Chess_opening#:~:text=Many%20opening%20sequences%20have%20standard,varying%20degrees%20of%20common%20usage.), there are 1,327 different openings and variants. To gain an edge over their opponents from the get go, chess masters study a variety of openings and common positions that can be reached from said openings. Even though chess openings make up a small fraction of most  chess games, why do chess masters focus more on understanding openings rather than middlegame tactics or endgames? Does a deeper understanding of chess openings correlate to a higher win rate?\n",
    "\n",
    "The goal of this project is to see if there is a relationship between the opening moves and the outcome of the game."
   ]
  },
  {
   "cell_type": "markdown",
   "metadata": {},
   "source": [
    "### *Understanding the Game*\n",
    "\n",
    "For those who that don't know, chess is a game played on a board of 64 squares. One player controls the white pieces and the other player controls the black pieces. The player controlling the white pieces is often referred to as \"white\", and the other player is referred to as \"black.\" Each player starts with 8 pawns, 2 rooks, 2 knights, 2 bishops, a queen, and a king. The starting position of every chess game is as follows:\n",
    "\n",
    "<img src= \"https://i.redd.it/s2wqrlmz5mg61.jpg\" width = \"500\" height = \"500\">\n",
    "\n",
    "Each row of the board, called a **rank**, is denoted with a number 1 through 8. The first rank starts on bottom of the board with the white pieces. Each column of the board, called a **file**, is denoted with a letter \"a\" to \"h\" from left to right. Ranks and files are used together to describe piece movements throughout the game. \n",
    "\n",
    "Each chess piece is able to move differently. See this image for each pieces available moves and captures:\n",
    "\n",
    "<img src = \"https://elzr.com/blag/img/2018/chess-pieces/chess-moves.png\" width = \"1200\" height = \"800\">\n",
    "\n",
    "Note that the pawns are only able to move forward twice from their starting position. Pawns can only move forward and capture diagonally. The X labeled on the pawn moves are the available capture squares. All the other pieces (rook, knight, bishop, queen, and king) are able to capture pieces residing on their available moves. The knight is unique in that it is the only piece that is able to jump over other pieces. No other piece is able to move beyond other pieces in their respective directions. For more information on how each piece moves and captures enemy pieces, see this [interactive study on lichess.org](https://lichess.org/study/WvNqVRMX/nIPPeTem)\n",
    "\n",
    "The goal of the game is to trap the enemy king. Each player takes turns moving one piece on the board. No player is allowed to skip their turn. Whenever a piece attacks the opposing king, the opponent is in **check** and must protect their king by blocking the attack or moving their king out of danger. Note that players cannot put themselves in check. The game ends when a player is in check and cannot prevent their king's capture on the next turn. This is known as **checkmate**. An example board where white wins by checkmate is given below:\n",
    "\n",
    "<img src = \"https://mathtuition88.files.wordpress.com/2018/11/checkmate.png\" width = \"500\" height = \"500\">\n",
    "\n",
    "### *Glossary*\n",
    "\n",
    "- **white**: the player controlling the white pieces\n",
    "- **black**: the player controlling the black pieces\n",
    "- **rank**: rows of a chess baord (denoted 1-8)\n",
    "- **file**: columns of a chess board (denoted a-h)\n",
    "- **check**: when a player's king is attacked by enemy pieces\n",
    "- **checkmate**: when a player's king cannot escape check (resulting in a lose)"
   ]
  },
  {
   "cell_type": "markdown",
   "metadata": {},
   "source": [
    "---\n",
    "\n",
    "##  **Data Collection**"
   ]
  },
  {
   "cell_type": "markdown",
   "metadata": {},
   "source": [
    "The data used in this study is from the [Opening Master](https://www.openingmaster.com/chess-databases/om-otb) chess database. The database provides a free list of the top 52 chess openings played at the master level (+2400 ELO) up until January 2022. \n",
    "\n",
    "Before we begin to collect the data to this notebook, we will import any libraries we need throughout the notebook. A brief description of each import is given below:\n",
    "\n",
    "- `chess.pgn`: used to read .pgn (Portable Game Notation) files\n",
    "- `pandas`: flexible open source data analysis and manipulation tool\n",
    "- `os`: used to list out files in a directory/folder\n",
    "- `pickle`: used to save and load our dataset\n",
    "- `matplotlib.pyplot`: used for showcasing any graphs/visuals\n",
    "- `chi2_contingency`: used to compute the test statistic of two dependent/independent variables\n",
    "- `chi2`: used to compute the critical value of a chi-squared test"
   ]
  },
  {
   "cell_type": "code",
   "execution_count": 174,
   "metadata": {},
   "outputs": [],
   "source": [
    "import chess.pgn\n",
    "\n",
    "import pandas as pd\n",
    "import os\n",
    "\n",
    "import pickle as pkl\n",
    "\n",
    "import matplotlib.pyplot as plt\n",
    "\n",
    "from scipy.stats import chi2_contingency, chi2"
   ]
  },
  {
   "cell_type": "markdown",
   "metadata": {},
   "source": [
    "The folder downloaded from the [Opening Master](https://www.openingmaster.com/chess-databases/om-otb) chess database, named `\"OM TOP OPENING\"` contains a bunch of folders corresponding to chess openings. Inside these folders are .pgn files with the chess games that follow a specific opening. \n",
    "\n",
    "Let's store a list of all the .pgn file paths by walking through each file in each folder of `\"OM TOP OPENINGS\"`."
   ]
  },
  {
   "cell_type": "code",
   "execution_count": 36,
   "metadata": {},
   "outputs": [],
   "source": [
    "#   resulting list of pgn file paths\n",
    "all_pgns = []\n",
    "\n",
    "#   walk through OM TOP OPENINGS folder\n",
    "for opening in os.listdir(\"OM TOP OPENINGS\") :\n",
    "    #   root path\n",
    "    path = \"OM TOP OPENINGS/\" + opening + \"/\"\n",
    "\n",
    "    for file in os.listdir(path) :\n",
    "        #   check for .pgn\n",
    "        if (\".pgn\" in file) :\n",
    "            #   store complete .pgn file path\n",
    "            all_pgns.append(os.path.join(path, file))"
   ]
  },
  {
   "cell_type": "markdown",
   "metadata": {},
   "source": [
    "Now that we've collected all the .pgn paths, we can analyze each game. Each `game` returned by the function `chess.pgn.read_game(pgn)` contains an `OrderedDict` called `game.headers`. All of these dictionaries are appended to a 2D list called `dictionary_list`, which is then converted to a `pd.DataFrame`.\n",
    "\n",
    "**Please note that this code block does not need to be run again.** The resulting DataFrame has been stored as a .pkl file, which will be loaded in the following code blocks. This process is much faster than reruning thne code described above. "
   ]
  },
  {
   "cell_type": "code",
   "execution_count": 173,
   "metadata": {},
   "outputs": [
    {
     "name": "stdout",
     "output_type": "stream",
     "text": [
      "Reading \"OM TOP OPENINGS/Accelarated Dragadorf/AcceleratedDragadorf.pgn\"\n",
      "Reading \"OM TOP OPENINGS/Alekhine Defence/AlechDefB03.pgn\"\n",
      "Reading \"OM TOP OPENINGS/Alekhine Defence Modern/AlechDefModern.pgn\"\n",
      "Reading \"OM TOP OPENINGS/Anglo-Dutch/AngloDutch.pgn\"\n",
      "Reading \"OM TOP OPENINGS/Anglo-Slav/AngloSlav.pgn\"\n",
      "Reading \"OM TOP OPENINGS/Anti Dutch Hopton Attack/HoptonAttackA80.pgn\"\n",
      "Reading \"OM TOP OPENINGS/Anti-Grunfeld/AntiGrunfeldD70.pgn\"\n",
      "Reading \"OM TOP OPENINGS/Benoni Argentina/BenoniA75.pgn\"\n",
      "Reading \"OM TOP OPENINGS/Blumenfeld/BlumenfeldGambit.pgn\"\n",
      "Reading \"OM TOP OPENINGS/Budapest Defence/BudapestGambit.pgn\"\n",
      "Reading \"OM TOP OPENINGS/Caro Kann Panov/CaroKann.pgn\"\n",
      "Reading \"OM TOP OPENINGS/Chebanenko/Chebanenko_Slav.pgn\"\n",
      "Reading \"OM TOP OPENINGS/Chigorin/QGChigorin.pgn\"\n",
      "Reading \"OM TOP OPENINGS/Dutch Leningrad/DutchLeningradA87.pgn\"\n",
      "Reading \"OM TOP OPENINGS/English Reversed/English-Reversed Sicilan PGN.pgn\"\n",
      "Reading \"OM TOP OPENINGS/English-Symmetrical/EngSymm.pgn\"\n",
      "Reading \"OM TOP OPENINGS/French Advance/FrenchAdv.pgn\"\n",
      "Reading \"OM TOP OPENINGS/French Defence Steinitz/French Steinitz Variation C11.pgn\"\n",
      "Reading \"OM TOP OPENINGS/French Winawer Keres/FrenchWinawerKeres.pgn\"\n",
      "Reading \"OM TOP OPENINGS/Giuoco Piano/GiuocoPiano.pgn\"\n",
      "Reading \"OM TOP OPENINGS/Grundfeld Defence/Grunfeld.pgn\"\n",
      "Reading \"OM TOP OPENINGS/Grundfeld Defence/GrunfeldDefenceD80.pgn\"\n",
      "Reading \"OM TOP OPENINGS/Keres Attack/Sicilian-Keres Attack B81.pgn\"\n",
      "Reading \"OM TOP OPENINGS/Kid Samish/KIDSaemischE80.pgn\"\n",
      "Reading \"OM TOP OPENINGS/King Indian/KingsIndianAverbakhE73.pgn\"\n",
      "Reading \"OM TOP OPENINGS/Modern Benoni/ModernBenoniA70.pgn\"\n",
      "Reading \"OM TOP OPENINGS/New Caro Kann/NewCaroKannB12.pgn\"\n",
      "Reading \"OM TOP OPENINGS/Nimzo Indian/NimzoIndianClass.pgn\"\n",
      "Reading \"OM TOP OPENINGS/Perenyi/PerenyiAttackB81.pgn\"\n",
      "Reading \"OM TOP OPENINGS/Petroff Defence/Petroff_3_Nxe5.pgn\"\n",
      "Reading \"OM TOP OPENINGS/Philidor Defence/PhilidorsC41.pgn\"\n",
      "Reading \"OM TOP OPENINGS/Pirc Defence/Pirc Defence-Austrian Attack B09.pgn\"\n",
      "Reading \"OM TOP OPENINGS/Reti-Barcza/Reti_Barcza.pgn\"\n",
      "Reading \"OM TOP OPENINGS/Ruy Lopez Berlin Defence/Ruy_Lopez_Berlin.pgn\"\n",
      "Reading \"OM TOP OPENINGS/Ruy Lopez Breyer/RLBreyer.pgn\"\n",
      "Reading \"OM TOP OPENINGS/Ruy Lopez-Schlieman/RLSchlieman.pgn\"\n",
      "Reading \"OM TOP OPENINGS/RuyLopez/RuyLopez.pgn\"\n",
      "Reading \"OM TOP OPENINGS/Scandinavian/Scandinavian_3_Qd6.pgn\"\n",
      "Reading \"OM TOP OPENINGS/Scotch game/ScotchC45.pgn\"\n",
      "Reading \"OM TOP OPENINGS/Semi-Slav Anti-Meran/SemiSlavD44.pgn\"\n",
      "Reading \"OM TOP OPENINGS/Sicilian Closed Variation/SicilianClosedB25.pgn\"\n",
      "Reading \"OM TOP OPENINGS/Sicilian Maroczy/SicMaroczy.pgn\"\n",
      "Reading \"OM TOP OPENINGS/Sicilian Moscow Gambit/Sicilian Moscow Gambit B51.pgn\"\n",
      "Reading \"OM TOP OPENINGS/Sicilian Paulsen Taimanov/SicPaulsen.pgn\"\n",
      "Reading \"OM TOP OPENINGS/Sicilian Scheveningen Variation/SicSchev.pgn\"\n",
      "Reading \"OM TOP OPENINGS/Sicilian Sokolsky Variation/Sicilian Sokolsky B52.pgn\"\n",
      "Reading \"OM TOP OPENINGS/Sicilian Sveshnikov/SicilianSveshnikov.pgn\"\n",
      "Reading \"OM TOP OPENINGS/Sicilian-Anti Sozin/SicilianAntiSozin.pgn\"\n",
      "Reading \"OM TOP OPENINGS/Sicilian-English/Sic_English_Attack.pgn\"\n",
      "Reading \"OM TOP OPENINGS/Sicilian-Nimzo - Rubenstein/SicNimRub.pgn\"\n",
      "Reading \"OM TOP OPENINGS/Slav Defence/SlavDef.pgn\"\n",
      "Reading \"OM TOP OPENINGS/SmithMorra/SmithMorraAcceptedB21.pgn\"\n",
      "Reading \"OM TOP OPENINGS/Trompowsky Attack/TrompowskyA45.pgn\"\n",
      "Reading \"OM TOP OPENINGS/Vienna Game/ViennaGameC27.pgn\"\n",
      "Reading \"OM TOP OPENINGS/Wade defence/WadeDefA41.pgn\"\n"
     ]
    }
   ],
   "source": [
    "#   read all the games and store them in a 2D list\n",
    "dictionary_list = []\n",
    "\n",
    "#   read all the files\n",
    "for pgn in all_pgns :\n",
    "    #   tracking reading progress\n",
    "    print(\"Reading \\\"\" + str(pgn) + \"\\\"\")\n",
    "    \n",
    "    #   open this pgn\n",
    "    pgn = open(pgn, encoding = \"latin-1\")\n",
    "\n",
    "    #   iterrate through all the games in this .pgn\n",
    "    game = chess.pgn.read_game(pgn)\n",
    "    while game is not None :\n",
    "        #   append headers (OrderedDict containing data) to list\n",
    "        dictionary_list.append(game.headers)\n",
    "        \n",
    "        #   fetch the game\n",
    "        game = chess.pgn.read_game(pgn)\n",
    "\n",
    "#   store the data in a DataFrame\n",
    "data = pd.DataFrame.from_dict(dictionary_list)\n",
    "\n",
    "#   save the data to a pkl file\n",
    "data.to_pickle(\"data.pkl\")"
   ]
  },
  {
   "cell_type": "markdown",
   "metadata": {},
   "source": [
    "Now that we've colelcted our data and stored it locally, the data collection process has been completed!"
   ]
  },
  {
   "cell_type": "markdown",
   "metadata": {},
   "source": [
    "---\n",
    "\n",
    "##  **Data Management/Representation**"
   ]
  },
  {
   "cell_type": "markdown",
   "metadata": {},
   "source": [
    "Let's have a look at our original DataFrame that we saved locally:"
   ]
  },
  {
   "cell_type": "code",
   "execution_count": 73,
   "metadata": {},
   "outputs": [
    {
     "data": {
      "text/html": [
       "<div>\n",
       "<style scoped>\n",
       "    .dataframe tbody tr th:only-of-type {\n",
       "        vertical-align: middle;\n",
       "    }\n",
       "\n",
       "    .dataframe tbody tr th {\n",
       "        vertical-align: top;\n",
       "    }\n",
       "\n",
       "    .dataframe thead th {\n",
       "        text-align: right;\n",
       "    }\n",
       "</style>\n",
       "<table border=\"1\" class=\"dataframe\">\n",
       "  <thead>\n",
       "    <tr style=\"text-align: right;\">\n",
       "      <th></th>\n",
       "      <th>Annotator</th>\n",
       "      <th>Black</th>\n",
       "      <th>BlackElo</th>\n",
       "      <th>BlackTeam</th>\n",
       "      <th>BlackTeamCountry</th>\n",
       "      <th>Date</th>\n",
       "      <th>ECO</th>\n",
       "      <th>Event</th>\n",
       "      <th>EventCategory</th>\n",
       "      <th>EventCountry</th>\n",
       "      <th>...</th>\n",
       "      <th>PlyCount</th>\n",
       "      <th>Result</th>\n",
       "      <th>Round</th>\n",
       "      <th>Site</th>\n",
       "      <th>Source</th>\n",
       "      <th>SourceDate</th>\n",
       "      <th>White</th>\n",
       "      <th>WhiteElo</th>\n",
       "      <th>WhiteTeam</th>\n",
       "      <th>WhiteTeamCountry</th>\n",
       "    </tr>\n",
       "  </thead>\n",
       "  <tbody>\n",
       "    <tr>\n",
       "      <th>0</th>\n",
       "      <td>NaN</td>\n",
       "      <td>Ginsburg, G.</td>\n",
       "      <td>2537</td>\n",
       "      <td>NaN</td>\n",
       "      <td>NaN</td>\n",
       "      <td>2009.09.06</td>\n",
       "      <td>B70</td>\n",
       "      <td>?</td>\n",
       "      <td>NaN</td>\n",
       "      <td>GER</td>\n",
       "      <td>...</td>\n",
       "      <td>113</td>\n",
       "      <td>1-0</td>\n",
       "      <td>6</td>\n",
       "      <td>Nuernberg GER</td>\n",
       "      <td>Opening Master</td>\n",
       "      <td>2009.10.24</td>\n",
       "      <td>Boguslavskyy, O.</td>\n",
       "      <td>2442</td>\n",
       "      <td>NaN</td>\n",
       "      <td>NaN</td>\n",
       "    </tr>\n",
       "    <tr>\n",
       "      <th>1</th>\n",
       "      <td>NaN</td>\n",
       "      <td>Zhou, Y.</td>\n",
       "      <td>2265</td>\n",
       "      <td>A.D. AJEDREZ MÓSTOLES</td>\n",
       "      <td>NaN</td>\n",
       "      <td>2009.08.25</td>\n",
       "      <td>B72</td>\n",
       "      <td>?</td>\n",
       "      <td>4</td>\n",
       "      <td>FRA</td>\n",
       "      <td>...</td>\n",
       "      <td>91</td>\n",
       "      <td>1-0</td>\n",
       "      <td>4</td>\n",
       "      <td>Dieppe FRA</td>\n",
       "      <td>Opening Master</td>\n",
       "      <td>2009.10.24</td>\n",
       "      <td>Tirard, H.</td>\n",
       "      <td>2434</td>\n",
       "      <td>A.D. AJEDREZ MÓSTOLES</td>\n",
       "      <td>NaN</td>\n",
       "    </tr>\n",
       "    <tr>\n",
       "      <th>2</th>\n",
       "      <td>NaN</td>\n",
       "      <td>Kudrin, Sergey</td>\n",
       "      <td>2578</td>\n",
       "      <td>NaN</td>\n",
       "      <td>NaN</td>\n",
       "      <td>2009.07.26</td>\n",
       "      <td>B72</td>\n",
       "      <td>?</td>\n",
       "      <td>NaN</td>\n",
       "      <td>BRA</td>\n",
       "      <td>...</td>\n",
       "      <td>53</td>\n",
       "      <td>1/2-1/2</td>\n",
       "      <td>2.10</td>\n",
       "      <td>Sao Paulo BRA</td>\n",
       "      <td>Opening Master</td>\n",
       "      <td>2009.10.24</td>\n",
       "      <td>Viana Da Costa, Fernando</td>\n",
       "      <td>2284</td>\n",
       "      <td>NaN</td>\n",
       "      <td>NaN</td>\n",
       "    </tr>\n",
       "    <tr>\n",
       "      <th>3</th>\n",
       "      <td>NaN</td>\n",
       "      <td>Kudrin, Sergey</td>\n",
       "      <td>2578</td>\n",
       "      <td>NaN</td>\n",
       "      <td>NaN</td>\n",
       "      <td>2009.07.27</td>\n",
       "      <td>B72</td>\n",
       "      <td>?</td>\n",
       "      <td>NaN</td>\n",
       "      <td>BRA</td>\n",
       "      <td>...</td>\n",
       "      <td>79</td>\n",
       "      <td>1/2-1/2</td>\n",
       "      <td>4.14</td>\n",
       "      <td>Sao Paulo BRA</td>\n",
       "      <td>Opening Master</td>\n",
       "      <td>2009.10.24</td>\n",
       "      <td>Uribe, Mauricio</td>\n",
       "      <td>2413</td>\n",
       "      <td>NaN</td>\n",
       "      <td>NaN</td>\n",
       "    </tr>\n",
       "    <tr>\n",
       "      <th>4</th>\n",
       "      <td>NaN</td>\n",
       "      <td>Kudrin, S.</td>\n",
       "      <td>2578</td>\n",
       "      <td>NaN</td>\n",
       "      <td>NaN</td>\n",
       "      <td>2009.08.02</td>\n",
       "      <td>B72</td>\n",
       "      <td>?</td>\n",
       "      <td>NaN</td>\n",
       "      <td>BRA</td>\n",
       "      <td>...</td>\n",
       "      <td>50</td>\n",
       "      <td>1-0</td>\n",
       "      <td>10</td>\n",
       "      <td>Sao Paulo BRA</td>\n",
       "      <td>Opening Master</td>\n",
       "      <td>2009.10.24</td>\n",
       "      <td>Barrientos, S.</td>\n",
       "      <td>2474</td>\n",
       "      <td>NaN</td>\n",
       "      <td>NaN</td>\n",
       "    </tr>\n",
       "  </tbody>\n",
       "</table>\n",
       "<p>5 rows × 23 columns</p>\n",
       "</div>"
      ],
      "text/plain": [
       "  Annotator           Black BlackElo               BlackTeam BlackTeamCountry  \\\n",
       "0       NaN    Ginsburg, G.     2537                     NaN              NaN   \n",
       "1       NaN        Zhou, Y.     2265   A.D. AJEDREZ MÓSTOLES              NaN   \n",
       "2       NaN  Kudrin, Sergey     2578                     NaN              NaN   \n",
       "3       NaN  Kudrin, Sergey     2578                     NaN              NaN   \n",
       "4       NaN      Kudrin, S.     2578                     NaN              NaN   \n",
       "\n",
       "         Date  ECO Event EventCategory EventCountry  ... PlyCount   Result  \\\n",
       "0  2009.09.06  B70     ?           NaN          GER  ...      113      1-0   \n",
       "1  2009.08.25  B72     ?             4          FRA  ...       91      1-0   \n",
       "2  2009.07.26  B72     ?           NaN          BRA  ...       53  1/2-1/2   \n",
       "3  2009.07.27  B72     ?           NaN          BRA  ...       79  1/2-1/2   \n",
       "4  2009.08.02  B72     ?           NaN          BRA  ...       50      1-0   \n",
       "\n",
       "  Round           Site          Source  SourceDate                     White  \\\n",
       "0     6  Nuernberg GER  Opening Master  2009.10.24          Boguslavskyy, O.   \n",
       "1     4     Dieppe FRA  Opening Master  2009.10.24                Tirard, H.   \n",
       "2  2.10  Sao Paulo BRA  Opening Master  2009.10.24  Viana Da Costa, Fernando   \n",
       "3  4.14  Sao Paulo BRA  Opening Master  2009.10.24           Uribe, Mauricio   \n",
       "4    10  Sao Paulo BRA  Opening Master  2009.10.24            Barrientos, S.   \n",
       "\n",
       "  WhiteElo               WhiteTeam WhiteTeamCountry  \n",
       "0     2442                     NaN              NaN  \n",
       "1     2434   A.D. AJEDREZ MÓSTOLES              NaN  \n",
       "2     2284                     NaN              NaN  \n",
       "3     2413                     NaN              NaN  \n",
       "4     2474                     NaN              NaN  \n",
       "\n",
       "[5 rows x 23 columns]"
      ]
     },
     "execution_count": 73,
     "metadata": {},
     "output_type": "execute_result"
    }
   ],
   "source": [
    "#   showcase the original data\n",
    "opening_master_df = pd.read_pickle(\"data.pkl\")\n",
    "opening_master_df.head()"
   ]
  },
  {
   "cell_type": "markdown",
   "metadata": {},
   "source": [
    "It goes wihtout saying that there were a lot of details about each game within each .pgn file. Since most of the data is either incomplete or isn't necessary from here on out, we will tidy our master DataFrame. The following changes will be made to the original DataFrame:\n",
    "\n",
    "- Seperate `\"Result\"` column into `\"WhiteWins\"` and `\"BlackWins\"` columns\n",
    "    - \"1-0\" indicates white won\n",
    "    - \"1/2-1/2\" indicates a draw\n",
    "    - \"0-1\" indicates black won\n",
    "- Keep the following columns\n",
    "    - `\"ECO\"`\n",
    "    - `\"White\"`\n",
    "    - `\"Black\"`\n",
    "    - `\"WhiteElo\"`\n",
    "    - `\"BlackElo\"`\n",
    "    - `\"WhiteWins\"`\n",
    "    - `\"BlackWins\"`\n",
    "- Sort each row by the Opening Codes (ECO)"
   ]
  },
  {
   "cell_type": "code",
   "execution_count": 83,
   "metadata": {},
   "outputs": [
    {
     "data": {
      "text/html": [
       "<div>\n",
       "<style scoped>\n",
       "    .dataframe tbody tr th:only-of-type {\n",
       "        vertical-align: middle;\n",
       "    }\n",
       "\n",
       "    .dataframe tbody tr th {\n",
       "        vertical-align: top;\n",
       "    }\n",
       "\n",
       "    .dataframe thead th {\n",
       "        text-align: right;\n",
       "    }\n",
       "</style>\n",
       "<table border=\"1\" class=\"dataframe\">\n",
       "  <thead>\n",
       "    <tr style=\"text-align: right;\">\n",
       "      <th></th>\n",
       "      <th>ECO</th>\n",
       "      <th>White</th>\n",
       "      <th>Black</th>\n",
       "      <th>WhiteElo</th>\n",
       "      <th>BlackElo</th>\n",
       "      <th>WhiteWins</th>\n",
       "      <th>BlackWins</th>\n",
       "    </tr>\n",
       "  </thead>\n",
       "  <tbody>\n",
       "    <tr>\n",
       "      <th>0</th>\n",
       "      <td>A07</td>\n",
       "      <td>Horvath, Imre</td>\n",
       "      <td>Fodre, Sandor</td>\n",
       "      <td>2284</td>\n",
       "      <td>2207</td>\n",
       "      <td>0.5</td>\n",
       "      <td>0.5</td>\n",
       "    </tr>\n",
       "    <tr>\n",
       "      <th>1</th>\n",
       "      <td>A07</td>\n",
       "      <td>Todorcevic Miodrag, Beograd JIK</td>\n",
       "      <td>Cebalo, Miso</td>\n",
       "      <td>2530</td>\n",
       "      <td>2485</td>\n",
       "      <td>0.5</td>\n",
       "      <td>0.5</td>\n",
       "    </tr>\n",
       "    <tr>\n",
       "      <th>2</th>\n",
       "      <td>A07</td>\n",
       "      <td>Eisterer, Heinrich</td>\n",
       "      <td>Kwatschewsky, Leo</td>\n",
       "      <td>2300</td>\n",
       "      <td>2355</td>\n",
       "      <td>1.0</td>\n",
       "      <td>0.0</td>\n",
       "    </tr>\n",
       "    <tr>\n",
       "      <th>3</th>\n",
       "      <td>A07</td>\n",
       "      <td>Rosen, Bernd</td>\n",
       "      <td>Westerinen, Heikki M J</td>\n",
       "      <td>2305</td>\n",
       "      <td>2400</td>\n",
       "      <td>0.0</td>\n",
       "      <td>1.0</td>\n",
       "    </tr>\n",
       "    <tr>\n",
       "      <th>4</th>\n",
       "      <td>A07</td>\n",
       "      <td>Dumont, Sadi Glasser</td>\n",
       "      <td>Van Riemsdijk, Herman C</td>\n",
       "      <td>2250</td>\n",
       "      <td>2350</td>\n",
       "      <td>0.0</td>\n",
       "      <td>1.0</td>\n",
       "    </tr>\n",
       "  </tbody>\n",
       "</table>\n",
       "</div>"
      ],
      "text/plain": [
       "   ECO                            White                    Black WhiteElo  \\\n",
       "0  A07                    Horvath, Imre            Fodre, Sandor     2284   \n",
       "1  A07  Todorcevic Miodrag, Beograd JIK             Cebalo, Miso     2530   \n",
       "2  A07               Eisterer, Heinrich        Kwatschewsky, Leo     2300   \n",
       "3  A07                     Rosen, Bernd   Westerinen, Heikki M J     2305   \n",
       "4  A07             Dumont, Sadi Glasser  Van Riemsdijk, Herman C     2250   \n",
       "\n",
       "  BlackElo  WhiteWins  BlackWins  \n",
       "0     2207        0.5        0.5  \n",
       "1     2485        0.5        0.5  \n",
       "2     2355        1.0        0.0  \n",
       "3     2400        0.0        1.0  \n",
       "4     2350        0.0        1.0  "
      ]
     },
     "execution_count": 83,
     "metadata": {},
     "output_type": "execute_result"
    }
   ],
   "source": [
    "#   get the original data from the .pkl file\n",
    "opening_master_df = pd.read_pickle(\"data.pkl\")\n",
    "\n",
    "#   seperate result column into WhiteWin and BlackWin\n",
    "white_wins = []\n",
    "black_wins = []\n",
    "\n",
    "for result in opening_master_df[\"Result\"] :\n",
    "    if result == \"1-0\" :    #   white won\n",
    "        white_wins.append(1.0)\n",
    "        black_wins.append(0.0)\n",
    "    elif result == \"0-1\" :  #   black won\n",
    "        white_wins.append(0.0)\n",
    "        black_wins.append(1.0)\n",
    "    else :  #   result == \"1/2-1/2\", draw\n",
    "        white_wins.append(0.5)\n",
    "        black_wins.append(0.5)\n",
    "\n",
    "opening_master_df[\"WhiteWins\"] = white_wins\n",
    "opening_master_df[\"BlackWins\"] = black_wins\n",
    "\n",
    "#   get subset of columns needed for exploratory data analysis\n",
    "opening_master_df = opening_master_df[[\"ECO\", \"White\", \"Black\", \"WhiteElo\", \"BlackElo\", \"WhiteWins\", \"BlackWins\"]]\n",
    "\n",
    "#   sort the rows by opening code (ECO)\n",
    "opening_master_df.sort_values(\"ECO\", ignore_index = True, inplace = True)\n",
    "\n",
    "#   showcase condensed df\n",
    "opening_master_df.head()"
   ]
  },
  {
   "cell_type": "markdown",
   "metadata": {},
   "source": [
    "Much neater! Now that our dataset has been condensed, we can move on to the exploratory data analysis."
   ]
  },
  {
   "cell_type": "markdown",
   "metadata": {},
   "source": [
    "---\n",
    "\n",
    "##  **Exploratory Data Analysis**"
   ]
  },
  {
   "cell_type": "markdown",
   "metadata": {},
   "source": [
    "For starters, let's analyze the number of wins and draws from all the games played."
   ]
  },
  {
   "cell_type": "code",
   "execution_count": 98,
   "metadata": {},
   "outputs": [
    {
     "name": "stdout",
     "output_type": "stream",
     "text": [
      "White Wins: 65480\n",
      "Draws: 71097\n",
      "Black Wins: 44459\n",
      "\n",
      "White Win Percentage: 36.17%\n",
      "Draw Percentage: 39.27%\n",
      "Black Win Percentage: 24.56%\n"
     ]
    }
   ],
   "source": [
    "#   results from white perspective (1 = win, 0.5 = draw, 0 = loss)\n",
    "white_results = opening_master_df[\"WhiteWins\"].value_counts()\n",
    "\n",
    "print(\"White Wins: {}\".format(white_results[1]))\n",
    "print(\"Draws: {}\".format(white_results[0.5]))\n",
    "print(\"Black Wins: {}\\n\".format(white_results[0]))\n",
    "print(\"White Win Percentage: {0:.2f}%\".format(white_results[1] / len(opening_master_df) * 100))\n",
    "print(\"Draw Percentage: {0:.2f}%\".format(white_results[0.5] / len(opening_master_df) * 100))\n",
    "print(\"Black Win Percentage: {0:.2f}%\".format(white_results[0] / len(opening_master_df) * 100))"
   ]
  },
  {
   "cell_type": "markdown",
   "metadata": {},
   "source": [
    "We can see that a majority of the games are drawn. Intuitively speaking, this makes sense because, most of the time, both players at the master level are fairly matched, which results in fair play and an eventual draw. Between white and black, we can also see that white enjoys first mover advantage with a win rate of 36.17% over black's win rate of 24.56%.\n",
    "\n",
    "Moving from individual statistics, let's plot the most frequently played openings at the master level. To begin, create a new DataFrame grouped by the opening code. The value of each index is the number of times the opening was played in the original dataset."
   ]
  },
  {
   "cell_type": "code",
   "execution_count": 128,
   "metadata": {},
   "outputs": [
    {
     "data": {
      "text/plain": [
       "ECO\n",
       "B33    13869\n",
       "B09    12501\n",
       "C11     9796\n",
       "D15     8044\n",
       "C42     6756\n",
       "Name: ECO, dtype: int64"
      ]
     },
     "execution_count": 128,
     "metadata": {},
     "output_type": "execute_result"
    }
   ],
   "source": [
    "#   create a new df counting the number fo times an opening was played\n",
    "opening_freq = opening_master_df.groupby(\"ECO\")[\"ECO\"].count()\n",
    "\n",
    "#   sort the frequencies\n",
    "opening_freq.sort_values(ascending = False, inplace = True)\n",
    "\n",
    "#   showcase the top opening frequencies\n",
    "opening_freq.head()"
   ]
  },
  {
   "cell_type": "markdown",
   "metadata": {},
   "source": [
    "Let's showcase a list of the frequencies as a bar graph"
   ]
  },
  {
   "cell_type": "code",
   "execution_count": 129,
   "metadata": {},
   "outputs": [
    {
     "data": {
      "image/png": "[encoded data removed]",
      "text/plain": [
       "<Figure size 432x288 with 1 Axes>"
      ]
     },
     "metadata": {
      "needs_background": "light"
     },
     "output_type": "display_data"
    }
   ],
   "source": [
    "#   plot the top ten openings and their frequency played\n",
    "plt.bar(opening_freq.index[:10], opening_freq.values[:10])\n",
    "plt.title(\"Top 10 Openings by Popularity\")\n",
    "plt.ylabel(\"Times Played\")\n",
    "plt.xlabel(\"Opening Code (ECO)\")\n",
    "plt.show()"
   ]
  },
  {
   "cell_type": "markdown",
   "metadata": {},
   "source": [
    "According to the plot, we can see that the opening B33 was played the most (approixmately 14,000 times). According to the [Encyclopedia of Chess Openings](https://www.chessgames.com/chessecohelp.html), the B33 code corresponds to the Sicilian Defense. The runner-ups are B09 (Pirc, Austrian Attack) and C11 (French Defense).\n",
    "\n",
    "But does popularity always mean winning? To answer this question, we must compute the win percentage of each opening. **Please note that all the openings are assumed to be played by White, and thus the winning percentage is computed as the number of times white won using an opening divided by the number of games the opening was played in the dataset.**\n",
    "\n",
    "Since there are some openings that have a few games on record with 100% win rates, we will set a threshold to excluded these biases. More specifically, an opening must have at least 20 games recorded to be considered."
   ]
  },
  {
   "cell_type": "code",
   "execution_count": 136,
   "metadata": {},
   "outputs": [
    {
     "data": {
      "text/html": [
       "<div>\n",
       "<style scoped>\n",
       "    .dataframe tbody tr th:only-of-type {\n",
       "        vertical-align: middle;\n",
       "    }\n",
       "\n",
       "    .dataframe tbody tr th {\n",
       "        vertical-align: top;\n",
       "    }\n",
       "\n",
       "    .dataframe thead th {\n",
       "        text-align: right;\n",
       "    }\n",
       "</style>\n",
       "<table border=\"1\" class=\"dataframe\">\n",
       "  <thead>\n",
       "    <tr style=\"text-align: right;\">\n",
       "      <th></th>\n",
       "      <th>WhiteWins</th>\n",
       "      <th>BlackWins</th>\n",
       "      <th>WinRate</th>\n",
       "    </tr>\n",
       "    <tr>\n",
       "      <th>ECO</th>\n",
       "      <th></th>\n",
       "      <th></th>\n",
       "      <th></th>\n",
       "    </tr>\n",
       "  </thead>\n",
       "  <tbody>\n",
       "    <tr>\n",
       "      <th>B76</th>\n",
       "      <td>68.0</td>\n",
       "      <td>18.0</td>\n",
       "      <td>0.790698</td>\n",
       "    </tr>\n",
       "    <tr>\n",
       "      <th>B75</th>\n",
       "      <td>117.0</td>\n",
       "      <td>49.0</td>\n",
       "      <td>0.704819</td>\n",
       "    </tr>\n",
       "    <tr>\n",
       "      <th>D70</th>\n",
       "      <td>682.0</td>\n",
       "      <td>408.0</td>\n",
       "      <td>0.625688</td>\n",
       "    </tr>\n",
       "    <tr>\n",
       "      <th>E61</th>\n",
       "      <td>17.5</td>\n",
       "      <td>10.5</td>\n",
       "      <td>0.625000</td>\n",
       "    </tr>\n",
       "    <tr>\n",
       "      <th>A83</th>\n",
       "      <td>21.0</td>\n",
       "      <td>13.0</td>\n",
       "      <td>0.617647</td>\n",
       "    </tr>\n",
       "  </tbody>\n",
       "</table>\n",
       "</div>"
      ],
      "text/plain": [
       "     WhiteWins  BlackWins   WinRate\n",
       "ECO                                \n",
       "B76       68.0       18.0  0.790698\n",
       "B75      117.0       49.0  0.704819\n",
       "D70      682.0      408.0  0.625688\n",
       "E61       17.5       10.5  0.625000\n",
       "A83       21.0       13.0  0.617647"
      ]
     },
     "execution_count": 136,
     "metadata": {},
     "output_type": "execute_result"
    }
   ],
   "source": [
    "opening_win_rate = opening_master_df.groupby(\"ECO\").sum()\n",
    "\n",
    "#   drop rows with less than 20 games\n",
    "for index, row in opening_win_rate.iterrows() :\n",
    "    if (row[\"WhiteWins\"] + row[\"BlackWins\"] < 20) :\n",
    "        opening_win_rate.drop(index, inplace = True)\n",
    "\n",
    "opening_win_rate[\"WinRate\"] = [(row[\"WhiteWins\"] / (row[\"WhiteWins\"] + row[\"BlackWins\"])) for index, row in opening_win_rate.iterrows()]\n",
    "\n",
    "opening_win_rate.sort_values(\"WinRate\", ascending = False, inplace = True)\n",
    "\n",
    "opening_win_rate.head()"
   ]
  },
  {
   "cell_type": "code",
   "execution_count": 133,
   "metadata": {},
   "outputs": [
    {
     "data": {
      "image/png": "[encoded data removed]",
      "text/plain": [
       "<Figure size 432x288 with 1 Axes>"
      ]
     },
     "metadata": {
      "needs_background": "light"
     },
     "output_type": "display_data"
    }
   ],
   "source": [
    "#   plot the top ten openings and their frequency played\n",
    "plt.bar(opening_win_rate.index[:10], opening_win_rate[\"WinRate\"].values[:10])\n",
    "plt.title(\"Top 10 Openings by Win Rate\")\n",
    "plt.ylabel(\"Win Rate\")\n",
    "plt.xlabel(\"Opening Code (ECO)\")\n",
    "plt.show()"
   ]
  },
  {
   "cell_type": "markdown",
   "metadata": {},
   "source": [
    "According to the [Encyclopedia of Chess Openings](https://www.chessgames.com/chessecohelp.html), we can see that B76 (Sicilian, Dragon, Yugoslav Attack), B75 (Sicilian, Dragon, Yugoslav Attack), and D70 (Neo-Grunfeld Defense) are some of the openings as white with the highest win-rates."
   ]
  },
  {
   "cell_type": "markdown",
   "metadata": {},
   "source": [
    "---\n",
    "\n",
    "##  **Hypothesis Testing**"
   ]
  },
  {
   "cell_type": "markdown",
   "metadata": {},
   "source": [
    "To answer our original question of whether or not playing a certain chess opening has an effect on the outcome of the game, let's create a hypothesis test. The null and alternative hypotheses are given as follows:\n",
    "\n",
    "- Null Hypothesis: **There is no correlation** between the type of opening played and the outcome of the game\n",
    "- Alternative Hypothesis: **There is a correlation** between the type of opening played and the outcome of the game\n",
    "\n",
    "Since we trying to find a correlation between a categorical variable (a chess opening), it's difficult to use a z-test or t-test to prove our hypothesis test. How could we work around this? \n",
    "\n",
    "Fortunately enough, I've learned more ways to compute test statistics in my Economic Statistics course (ECON321). To test for independence between variables (including categorical variables), we can use the [Chi-Squared Test of Independence](https://www.ck12.org/book/ck-12-probability-and-statistics-concepts/section/11.6/). For more information on the equations, see the aforementioned hyperlink. Of course, python has packages to make this process and computation simple. Specifically, we use the `chi2_contingency` package to compute the test statistic and p-value of our data, and the `chi2` package to compute the critical value. Before we compute the test statistic, we must create a contingency table. This will include all the chess openings played in the `opening_win_rate` dataset and there total wins and losses."
   ]
  },
  {
   "cell_type": "code",
   "execution_count": 152,
   "metadata": {},
   "outputs": [
    {
     "name": "stdout",
     "output_type": "stream",
     "text": [
      "[[2982.0, 2413.0, 131.5, 879.0, 316.5, 295.5, 150.0, 214.5, 956.0, 978.0, 3167.5, 1539.0, 375.0, 2877.5, 335.5, 1584.0, 21.0, 14.0, 2881.5, 1788.5, 361.0, 1937.0, 1266.0, 7235.5, 516.5, 14.5, 312.0, 1508.0, 1809.5, 7461.5, 1276.5, 13.0, 10.0, 19.0, 208.0, 1846.5, 816.0, 15.0, 96.5, 117.0, 68.0, 28.5, 1992.0, 12.5, 3617.5, 3216.0, 5514.0, 759.0, 321.0, 1938.0, 3846.5, 2791.0, 2232.5, 2445.0, 1782.5, 14.5, 15.0, 11.0, 21.0, 14.0, 1828.5, 2167.5, 25.0, 12.5, 4503.5, 19.0, 1436.0, 682.0, 871.0, 10.5, 900.0, 3560.5, 17.5, 1242.5, 2016.5], [2643.0, 1951.0, 92.5, 764.0, 254.5, 233.5, 133.0, 193.5, 751.0, 734.0, 2823.5, 1527.0, 245.0, 1861.5, 303.5, 1082.0, 13.0, 12.0, 2106.5, 1401.5, 267.0, 1334.0, 845.0, 5265.5, 401.5, 12.5, 373.0, 1659.0, 1317.5, 6407.5, 914.5, 17.0, 11.0, 12.0, 193.0, 1432.5, 823.0, 15.0, 78.5, 49.0, 18.0, 22.5, 1347.0, 13.5, 2866.5, 2797.0, 4282.0, 790.0, 277.0, 1438.0, 2909.5, 2325.0, 1976.5, 1815.0, 1416.5, 16.5, 14.0, 9.0, 14.0, 11.0, 1492.5, 1398.5, 22.0, 10.5, 3540.5, 14.0, 1103.0, 408.0, 773.0, 11.5, 646.0, 2961.5, 10.5, 944.5, 1495.5]]\n"
     ]
    }
   ],
   "source": [
    "#   create a contingency table of all the openings and the wins/losses\n",
    "contingency_table = []\n",
    "\n",
    "#   sort the opening_win_rate df by ECO codes\n",
    "opening_win_rate.sort_index(inplace = True)\n",
    "\n",
    "contingency_table.append(opening_win_rate[\"WhiteWins\"].values.tolist())\n",
    "contingency_table.append(opening_win_rate[\"BlackWins\"].values.tolist())\n",
    "\n",
    "print(contingency_table)"
   ]
  },
  {
   "cell_type": "markdown",
   "metadata": {},
   "source": [
    "Now that we have our data for the chi-squared test, let's compute the test statistic and p-value. To compute the critical value, we use a significance level of 0.05 and 74 degrees of freedom. The degrees of freedom is computed by the number of rows and columns from the contingency table. More specifically, `dof = (rows - 1) * (cols - 1)`"
   ]
  },
  {
   "cell_type": "code",
   "execution_count": 176,
   "metadata": {},
   "outputs": [
    {
     "name": "stdout",
     "output_type": "stream",
     "text": [
      "Test Statistic = 599.26 >= 55.19\n",
      "p-value = 3.273151881260795e-83 <= 0.05\n"
     ]
    }
   ],
   "source": [
    "#   test statistic & p-value for each opening\n",
    "test_statistic, p, _, _ = chi2_contingency(contingency_table)\n",
    "\n",
    "#   degrees of freedom\n",
    "dof = (len(contingency_table) - 1) * (len(contingency_table[0]) - 1)\n",
    "\n",
    "#   compute critical value at 0.05 significance level and dof degrees of freedom\n",
    "critical_value = chi2.ppf(0.05, dof)\n",
    "\n",
    "#   reject null?\n",
    "print(\"Test Statistic = {0:.2f} >= {1:.2f}\".format(test_statistic, critical_value))\n",
    "print(\"p-value = {} <= 0.05\".format(p))"
   ]
  },
  {
   "cell_type": "markdown",
   "metadata": {},
   "source": [
    "Since the test statistic is greater than the critical value and the p-value is lower than the significance level, we can reject the null hypothesis."
   ]
  },
  {
   "cell_type": "markdown",
   "metadata": {},
   "source": [
    "---\n",
    "\n",
    "##  **Conclusion**"
   ]
  },
  {
   "cell_type": "markdown",
   "metadata": {},
   "source": [
    "Using the Chi-Square test for interdependence, the results show that there is a significant relationship between the type of chess opening played and the outcome of the game! This answers our original questions of whether or not chess openings actually matter.\n",
    "\n",
    "It's worth mentioning again that all the openings were assumed to be played by white. To further refine the results of this project, openings by black should be labeled and considered when conducting a hypothesis test. "
   ]
  },
  {
   "cell_type": "markdown",
   "metadata": {},
   "source": [
    "---\n",
    "\n",
    "##  **References**\n",
    "- [Has the number of draws in chess incrased?](https://en.chessbase.com/post/has-the-number-of-draws-in-chess-increased#:~:text=As%20can%20be%20seen%2C%20the,play%20and%20an%20eventual%20draw.)\n",
    "- [First-move advantage in chess](https://en.wikipedia.org/wiki/First-move_advantage_in_chess)\n",
    "- [Chess Openings](https://en.wikipedia.org/wiki/Chess_opening#:~:text=Many%20opening%20sequences%20have%20standard,varying%20degrees%20of%20common%20usage.)\n",
    "- [Chi-Squared Test](https://www.ck12.org/book/ck-12-probability-and-statistics-concepts/section/11.6/)\n",
    "- [Encyclopedia of Chess Openings](https://www.chessgames.com/chessecohelp.html)"
   ]
  }
 ],
 "metadata": {
  "interpreter": {
   "hash": "b855f38f8ec6aa5fbb8893718c0aaf9732b2207f41363866a32267bc580b2b49"
  },
  "kernelspec": {
   "display_name": "Python 3.10.2 64-bit",
   "language": "python",
   "name": "python3"
  },
  "language_info": {
   "codemirror_mode": {
    "name": "ipython",
    "version": 3
   },
   "file_extension": ".py",
   "mimetype": "text/x-python",
   "name": "python",
   "nbconvert_exporter": "python",
   "pygments_lexer": "ipython3",
   "version": "3.10.2"
  },
  "orig_nbformat": 4
 },
 "nbformat": 4,
 "nbformat_minor": 2
}
